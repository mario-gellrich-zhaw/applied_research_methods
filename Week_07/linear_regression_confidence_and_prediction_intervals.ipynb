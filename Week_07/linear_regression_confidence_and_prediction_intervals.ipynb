{
 "cells": [
  {
   "cell_type": "markdown",
   "metadata": {},
   "source": [
    "# Simple Linear Regression: Confidence- and Prediction-Intervals\n",
    "\n",
    "This notebook demonstrates how to create confidence and prediction intervals for a linear regression model using Python, based on rental price data (Y) and living area (X).\n",
    "\n",
    "See also: https://lmc2179.github.io/posts/confidence_prediction.html"
   ]
  },
  {
   "cell_type": "markdown",
   "metadata": {},
   "source": [
    "## Libraries and Settings"
   ]
  },
  {
   "cell_type": "code",
   "execution_count": null,
   "metadata": {},
   "outputs": [],
   "source": [
    "# Import libraries\n",
    "import os\n",
    "import numpy as np\n",
    "import pandas as pd\n",
    "from matplotlib import pyplot as plt\n",
    "import statsmodels.formula.api as smf\n",
    "\n",
    "# Suppress warnings\n",
    "import warnings\n",
    "warnings.filterwarnings('ignore')\n",
    "\n",
    "# Show current working directory\n",
    "print(os.getcwd())"
   ]
  },
  {
   "cell_type": "markdown",
   "metadata": {},
   "source": [
    "## Generate Apartment Data\n",
    "We will use the provided data representing rental prices (`Y`) and living area (`X`)."
   ]
  },
  {
   "cell_type": "code",
   "execution_count": null,
   "metadata": {},
   "outputs": [],
   "source": [
    "# Set the random seed for reproducibility\n",
    "np.random.seed(42)\n",
    "\n",
    "# Generate values for rental_price and living_area\n",
    "x = np.linspace(45, 160, 25)\n",
    "y = np.interp(x, [45, 160], [1500, 4900]) + np.random.normal(0, 400, 25)\n",
    "\n",
    "# Create a new DataFrame with 25 data points\n",
    "data = pd.DataFrame({\n",
    "    'rental_price': y,\n",
    "    'living_area': x\n",
    "})\n",
    "\n",
    "df = pd.DataFrame(data)\n",
    "df.columns = ['rental_price', 'living_area']\n",
    "df.head()"
   ]
  },
  {
   "cell_type": "markdown",
   "metadata": {},
   "source": [
    "## Fit an OLS Regression Model\n",
    "We will use `statsmodels` to fit an ordinary least squares (OLS) regression model for rental price as a function of living area."
   ]
  },
  {
   "cell_type": "code",
   "execution_count": null,
   "metadata": {},
   "outputs": [],
   "source": [
    "# Fit OLS regression\n",
    "model = smf.ols('rental_price ~ living_area', data=df)\n",
    "\n",
    "# Get and show results\n",
    "results = model.fit()\n",
    "print(results.summary())\n",
    "\n",
    "# Plot data and regression line\n",
    "plt.scatter(df['living_area'], df['rental_price'])\n",
    "plt.plot(df['living_area'], \n",
    "         results.predict(df['living_area']), \n",
    "         color='darkred', \n",
    "         linewidth=2)\n",
    "plt.xlabel('Living Area')\n",
    "plt.ylabel('Rental Price')\n",
    "plt.title('Living Area vs Rental Price')\n",
    "\n",
    "# Add annotation (regression equation with f-string)\n",
    "plt.text(50, 4500, f\"y = {results.params[0]:.2f} + {results.params[1]:.2f}x\", \n",
    "         fontsize=12, color='black')\n",
    "\n",
    "plt.show()\n"
   ]
  },
  {
   "cell_type": "markdown",
   "metadata": {},
   "source": [
    "## Generate Prediction- and Confidence Intervals\n",
    "\n",
    "We calculate the prediction- and confidence intervals for the model."
   ]
  },
  {
   "cell_type": "code",
   "execution_count": null,
   "metadata": {},
   "outputs": [],
   "source": [
    "# Generate predictions and confidence intervals\n",
    "alpha = 0.05\n",
    "predictions = results.get_prediction(df).summary_frame(alpha)\n",
    "predictions.head()"
   ]
  },
  {
   "cell_type": "markdown",
   "metadata": {},
   "source": [
    "## Visualizing the Regression Line and Confidence Interval\n",
    "\n",
    "We now plot the observed data along with the regression line and confidence intervals."
   ]
  },
  {
   "cell_type": "code",
   "execution_count": null,
   "metadata": {},
   "outputs": [],
   "source": [
    "# Plot observed data and regression line\n",
    "plt.scatter(df['living_area'], \n",
    "            df['rental_price'], \n",
    "            label='Observed', \n",
    "            marker='x', \n",
    "            color='black')\n",
    "\n",
    "# Plot regression line\n",
    "plt.plot(df['living_area'], \n",
    "         predictions['mean'], \n",
    "         label='Regression line')\n",
    "\n",
    "# Plot confidence intervals\n",
    "plt.fill_between(df['living_area'], \n",
    "                 predictions['mean_ci_lower'], \n",
    "                 predictions['mean_ci_upper'], \n",
    "                 color='blue', \n",
    "                 alpha=0.4, \n",
    "                 label='95% Confidence Interval')\n",
    "\n",
    "# Add legend and labels\n",
    "plt.xlabel('Living Area (m2)')\n",
    "plt.ylabel('Rental Price (CHF)')\n",
    "plt.legend()\n",
    "plt.show()"
   ]
  },
  {
   "cell_type": "markdown",
   "metadata": {},
   "source": [
    "## Visualizing the Regression Line and Prediction Interval\n",
    "\n",
    "We now plot the observed data along with the regression line, confidence- and prediction intervals."
   ]
  },
  {
   "cell_type": "code",
   "execution_count": null,
   "metadata": {},
   "outputs": [],
   "source": [
    "# Plot observed data and regression line\n",
    "plt.scatter(df['living_area'], \n",
    "            df['rental_price'], \n",
    "            label='Observed', \n",
    "            marker='x', \n",
    "            color='black')\n",
    "\n",
    "# Plot regression line\n",
    "plt.plot(df['living_area'], \n",
    "         predictions['mean'], \n",
    "         label='Regression line')\n",
    "\n",
    "# Plot prediction interval\n",
    "plt.fill_between(df['living_area'], \n",
    "                 predictions['obs_ci_lower'], \n",
    "                 predictions['obs_ci_upper'], \n",
    "                 alpha=.5, \n",
    "                 label='95% Prediction interval',\n",
    "                 color='orange')\n",
    "\n",
    "# Plot confidence interval\n",
    "plt.fill_between(df['living_area'], \n",
    "                 predictions['mean_ci_lower'], \n",
    "                 predictions['mean_ci_upper'], \n",
    "                 alpha=.4, \n",
    "                 label='95% Confidence interval',\n",
    "                 color='blue')\n",
    "\n",
    "# Add labels\n",
    "plt.xlabel('Living area (m2)')\n",
    "plt.ylabel('Rental price (CHF)')\n",
    "plt.legend()\n",
    "\n",
    "# Show plot\n",
    "plt.show()"
   ]
  },
  {
   "cell_type": "markdown",
   "metadata": {},
   "source": [
    "### Jupyter notebook --footer info-- (please always provide this at the end of each submitted notebook)"
   ]
  },
  {
   "cell_type": "code",
   "execution_count": null,
   "metadata": {},
   "outputs": [],
   "source": [
    "import os\n",
    "import platform\n",
    "import socket\n",
    "from platform import python_version\n",
    "from datetime import datetime\n",
    "\n",
    "print('-----------------------------------')\n",
    "print(os.name.upper())\n",
    "print(platform.system(), '|', platform.release())\n",
    "print('Datetime:', datetime.now().strftime(\"%Y-%m-%d %H:%M:%S\"))\n",
    "print('Python Version:', python_version())\n",
    "print('-----------------------------------')"
   ]
  }
 ],
 "metadata": {
  "kernelspec": {
   "display_name": "armenv",
   "language": "python",
   "name": "python3"
  },
  "language_info": {
   "codemirror_mode": {
    "name": "ipython",
    "version": 3
   },
   "file_extension": ".py",
   "mimetype": "text/x-python",
   "name": "python",
   "nbconvert_exporter": "python",
   "pygments_lexer": "ipython3",
   "version": "3.12.4"
  }
 },
 "nbformat": 4,
 "nbformat_minor": 4
}
