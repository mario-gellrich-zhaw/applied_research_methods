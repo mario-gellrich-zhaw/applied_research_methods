{
 "cells": [
  {
   "cell_type": "markdown",
   "id": "46134503",
   "metadata": {},
   "source": [
    "# The Pandas Library: Basic Functionality\n",
    "\n",
    "Pandas is a powerful Python library for data analysis and manipulation. It provides data structures and functions needed to work with structured data seamlessly.\n",
    "\n",
    "This notebook will cover the basic functionalities and essential functions provided by pandas, making it easier to analyze data in Python."
   ]
  },
  {
   "cell_type": "code",
   "execution_count": null,
   "id": "6ee9247e",
   "metadata": {},
   "outputs": [],
   "source": [
    "# Importing the pandas library\n",
    "import os\n",
    "import pandas as pd\n",
    "\n",
    "# Show the version of pandas\n",
    "print(f'The installes version of pandas is: {pd.__version__}')\n",
    "\n",
    "# Show the current working directory\n",
    "print(f'\\nThe current working directory is: {os.getcwd()}')\n"
   ]
  },
  {
   "cell_type": "markdown",
   "id": "97e0636b",
   "metadata": {},
   "source": [
    "\n",
    "## Creating DataFrames and Series\n",
    "\n",
    "Pandas has two primary data structures:\n",
    "\n",
    "1. **Series** - 1-dimensional labeled array\n",
    "2. **DataFrame** - 2-dimensional labeled data structure\n",
    "\n",
    "Let's see how to create both.\n"
   ]
  },
  {
   "cell_type": "code",
   "execution_count": null,
   "id": "a84dcf89",
   "metadata": {},
   "outputs": [],
   "source": [
    "# Creating a Series\n",
    "data = [1, 2, 3, 4, 5]\n",
    "series = pd.Series(data, name=\"Numbers\")\n",
    "series\n"
   ]
  },
  {
   "cell_type": "code",
   "execution_count": null,
   "id": "172e7010",
   "metadata": {},
   "outputs": [],
   "source": [
    "# Creating a Python dictionary with data\n",
    "data = {\n",
    "    \"Name\": [\"Alice\", \"Bob\", \"Charlie\", \"David\"],\n",
    "    \"Age\": [24, 27, 22, 32],\n",
    "    \"City\": [\"New York\", \"San Francisco\", \"Los Angeles\", \"Chicago\"]\n",
    "}\n",
    "\n",
    "# Converting the dictionary to a DataFrame\n",
    "df = pd.DataFrame(data)\n",
    "df"
   ]
  },
  {
   "cell_type": "markdown",
   "id": "42d04fe6",
   "metadata": {},
   "source": [
    "\n",
    "## Inspecting Data\n",
    "\n",
    "Once you have a DataFrame, you might want to inspect it. Some key methods include:\n",
    "- `head()`: View the first few rows of the DataFrame.\n",
    "- `tail()`: View the last few rows of the DataFrame.\n",
    "- `info()`: Get a summary of the DataFrame.\n",
    "- `describe()`: Get statistical summary of numerical columns.\n"
   ]
  },
  {
   "cell_type": "code",
   "execution_count": null,
   "id": "8913f045",
   "metadata": {},
   "outputs": [],
   "source": [
    "# Viewing first few rows\n",
    "df.head()\n"
   ]
  },
  {
   "cell_type": "code",
   "execution_count": null,
   "id": "d2fdde26",
   "metadata": {},
   "outputs": [],
   "source": [
    "# Viewing last few rows\n",
    "df.tail()\n"
   ]
  },
  {
   "cell_type": "code",
   "execution_count": null,
   "id": "ebd20404",
   "metadata": {},
   "outputs": [],
   "source": [
    "# Summary information of the DataFrame\n",
    "df.info()\n"
   ]
  },
  {
   "cell_type": "code",
   "execution_count": null,
   "id": "6d0e7434",
   "metadata": {},
   "outputs": [],
   "source": [
    "# Statistical summary of numerical columns\n",
    "df.describe()\n"
   ]
  },
  {
   "cell_type": "markdown",
   "id": "a7681d01",
   "metadata": {},
   "source": [
    "\n",
    "## Data Selection\n",
    "\n",
    "You can select data in a DataFrame using column names, or by using slicing.\n",
    "\n",
    "- Selecting a single column returns a Series.\n",
    "- Selecting multiple columns returns a DataFrame.\n"
   ]
  },
  {
   "cell_type": "code",
   "execution_count": null,
   "id": "e455543b",
   "metadata": {},
   "outputs": [],
   "source": [
    "# Selecting a single column\n",
    "df['Name']\n"
   ]
  },
  {
   "cell_type": "code",
   "execution_count": null,
   "id": "72984397",
   "metadata": {},
   "outputs": [],
   "source": [
    "# Selecting multiple columns\n",
    "df[['Name', 'Age']]\n"
   ]
  },
  {
   "cell_type": "markdown",
   "id": "2f6181f4",
   "metadata": {},
   "source": [
    "\n",
    "### Selecting Rows\n",
    "\n",
    "Pandas provides two main ways to select rows:\n",
    "- **loc**: Select by label.\n",
    "- **iloc**: Select by index position.\n"
   ]
  },
  {
   "cell_type": "code",
   "execution_count": null,
   "id": "f9269eb1",
   "metadata": {},
   "outputs": [],
   "source": [
    "# Selecting rows by label (loc)\n",
    "df.loc[df['Name'] == 'Alice']\n"
   ]
  },
  {
   "cell_type": "code",
   "execution_count": null,
   "id": "e855ed7e",
   "metadata": {},
   "outputs": [],
   "source": [
    "# Selecting rows by index position (iloc)\n",
    "df.iloc[2]  # Third row\n"
   ]
  },
  {
   "cell_type": "markdown",
   "id": "5fcffef3",
   "metadata": {},
   "source": [
    "\n",
    "## Filtering Data\n",
    "\n",
    "Filtering data in a DataFrame is done using boolean conditions.\n"
   ]
  },
  {
   "cell_type": "code",
   "execution_count": null,
   "id": "0944e473",
   "metadata": {},
   "outputs": [],
   "source": [
    "# Filter rows where Age > 25\n",
    "df[df['Age'] > 25]\n"
   ]
  },
  {
   "cell_type": "markdown",
   "id": "43690f7e",
   "metadata": {},
   "source": [
    "\n",
    "## Adding/Modifying Columns\n",
    "\n",
    "New columns can be added to a DataFrame, or existing columns can be modified.\n"
   ]
  },
  {
   "cell_type": "code",
   "execution_count": null,
   "id": "e7dd6b7a",
   "metadata": {},
   "outputs": [],
   "source": [
    "# Adding a new column 'Salary'\n",
    "df['Salary'] = [70000, 80000, 50000, 120000]\n",
    "df\n"
   ]
  },
  {
   "cell_type": "code",
   "execution_count": null,
   "id": "74d10c66",
   "metadata": {},
   "outputs": [],
   "source": [
    "# Modifying an existing column\n",
    "df['Age'] = df['Age'] + 1  # Incrementing each age by 1\n",
    "df\n"
   ]
  },
  {
   "cell_type": "markdown",
   "id": "c63b02c7",
   "metadata": {},
   "source": [
    "\n",
    "## Dropping Columns or Rows\n",
    "\n",
    "You can remove columns or rows using the `drop` function.\n"
   ]
  },
  {
   "cell_type": "code",
   "execution_count": null,
   "id": "f1b98e66",
   "metadata": {},
   "outputs": [],
   "source": [
    "# Dropping the 'Salary' column\n",
    "df.drop('Salary', axis=1, inplace=True)\n",
    "df\n"
   ]
  },
  {
   "cell_type": "code",
   "execution_count": null,
   "id": "82b25ea1",
   "metadata": {},
   "outputs": [],
   "source": [
    "# Dropping a row by index\n",
    "df.drop(0, axis=0, inplace=True)  # Dropping the first row\n",
    "df\n"
   ]
  },
  {
   "cell_type": "markdown",
   "id": "fe1ae67e",
   "metadata": {},
   "source": [
    "\n",
    "## Data Aggregation\n",
    "\n",
    "Pandas provides many functions to perform data aggregation, like `sum`, `mean`, `min`, `max`, etc.\n"
   ]
  },
  {
   "cell_type": "code",
   "execution_count": null,
   "id": "e17eb0fa",
   "metadata": {},
   "outputs": [],
   "source": [
    "# Calculating the mean age\n",
    "df['Age'].mean()\n"
   ]
  },
  {
   "cell_type": "markdown",
   "id": "ec06089a",
   "metadata": {},
   "source": [
    "\n",
    "## Grouping Data\n",
    "\n",
    "Using `groupby`, you can group data by a specific column and perform aggregate functions.\n"
   ]
  },
  {
   "cell_type": "code",
   "execution_count": null,
   "id": "af2e82de",
   "metadata": {},
   "outputs": [],
   "source": [
    "# Grouping by City and calculating mean age for each city\n",
    "df.groupby('City')['Age'].mean()\n"
   ]
  },
  {
   "cell_type": "markdown",
   "id": "f10fc35a",
   "metadata": {},
   "source": [
    "\n",
    "## Handling Missing Data\n",
    "\n",
    "Pandas provides methods to handle missing data, like `fillna` and `dropna`.\n"
   ]
  },
  {
   "cell_type": "code",
   "execution_count": null,
   "id": "b6ef5c69",
   "metadata": {},
   "outputs": [],
   "source": [
    "# Adding missing values to demonstrate handling\n",
    "df.loc[2, 'Age'] = None  # Setting age in the third row to NaN\n",
    "df\n"
   ]
  },
  {
   "cell_type": "code",
   "execution_count": null,
   "id": "d2743718",
   "metadata": {},
   "outputs": [],
   "source": [
    "# Handling missing values by filling NaN with 0\n",
    "df['Age'] = df['Age'].fillna(0)\n",
    "df"
   ]
  },
  {
   "cell_type": "code",
   "execution_count": null,
   "id": "52bf6760",
   "metadata": {},
   "outputs": [],
   "source": [
    "# Dropping rows with missing values\n",
    "df.dropna(inplace=True)\n",
    "df\n"
   ]
  },
  {
   "cell_type": "markdown",
   "id": "d157ca41",
   "metadata": {},
   "source": [
    "\n",
    "## Saving and Loading Data\n",
    "\n",
    "Pandas can easily save DataFrames to files and read from files. Common formats are CSV, Excel, and JSON.\n"
   ]
  },
  {
   "cell_type": "code",
   "execution_count": null,
   "id": "9e23bff1",
   "metadata": {},
   "outputs": [],
   "source": [
    "# Saving to a CSV file\n",
    "df.to_csv(\"sample_data.csv\", index=False)\n"
   ]
  },
  {
   "cell_type": "code",
   "execution_count": null,
   "id": "1db2022d",
   "metadata": {},
   "outputs": [],
   "source": [
    "\n",
    "# Loading from a CSV file\n",
    "loaded_df = pd.read_csv(\"sample_data.csv\")\n",
    "loaded_df\n"
   ]
  },
  {
   "cell_type": "markdown",
   "id": "7f7c2561",
   "metadata": {},
   "source": [
    "\n",
    "## Conclusion\n",
    "\n",
    "This notebook covered the basics of pandas, including data creation, inspection, selection, filtering, modification, aggregation, handling missing data, and saving/loading data."
   ]
  },
  {
   "cell_type": "markdown",
   "id": "66c2e64e",
   "metadata": {},
   "source": [
    "### Jupyter notebook --footer info-- (please always provide this at the end of each submitted notebook)"
   ]
  },
  {
   "cell_type": "code",
   "execution_count": null,
   "id": "331eef08",
   "metadata": {},
   "outputs": [],
   "source": [
    "import os\n",
    "import platform\n",
    "import socket\n",
    "from platform import python_version\n",
    "from datetime import datetime\n",
    "\n",
    "print('-----------------------------------')\n",
    "print(os.name.upper())\n",
    "print(platform.system(), '|', platform.release())\n",
    "print('Datetime:', datetime.now().strftime(\"%Y-%m-%d %H:%M:%S\"))\n",
    "print('Python Version:', python_version())\n",
    "print('-----------------------------------')"
   ]
  }
 ],
 "metadata": {
  "kernelspec": {
   "display_name": "armenv",
   "language": "python",
   "name": "python3"
  },
  "language_info": {
   "codemirror_mode": {
    "name": "ipython",
    "version": 3
   },
   "file_extension": ".py",
   "mimetype": "text/x-python",
   "name": "python",
   "nbconvert_exporter": "python",
   "pygments_lexer": "ipython3",
   "version": "3.12.4"
  }
 },
 "nbformat": 4,
 "nbformat_minor": 5
}
